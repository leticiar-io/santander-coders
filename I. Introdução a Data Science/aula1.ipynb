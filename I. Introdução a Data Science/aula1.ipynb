{
 "cells": [
  {
   "cell_type": "code",
   "execution_count": 1,
   "id": "51b8e8e9",
   "metadata": {},
   "outputs": [],
   "source": [
    "# Numpy é uma biblioteca/módulo do python que tem por objetivo fazer calculos matemáticos em estruturas de dados chamadas de arrays\n",
    "\n",
    "import numpy as np"
   ]
  },
  {
   "cell_type": "code",
   "execution_count": 2,
   "id": "e77a1c70-b53e-4898-be45-661ea7f6c671",
   "metadata": {},
   "outputs": [
    {
     "name": "stdout",
     "output_type": "stream",
     "text": [
      "<class 'list'>\n",
      "<class 'numpy.ndarray'>\n",
      "[0. 0. 0. 0. 0. 0. 0. 0. 0. 0.]\n"
     ]
    }
   ],
   "source": [
    "# Criando um array de 1 dimensão - vetor \n",
    "lista = [1, 2, 3, 4, 5]\n",
    "\n",
    "array = np.array(lista)\n",
    "print(type(lista))\n",
    "print(type(array))\n",
    "\n",
    "arr_zeros = np.zeros(10)\n",
    "print(arr_zeros)"
   ]
  },
  {
   "cell_type": "code",
   "execution_count": 3,
   "id": "ca8c894f",
   "metadata": {},
   "outputs": [
    {
     "name": "stdout",
     "output_type": "stream",
     "text": [
      "[[0. 0. 0.]\n",
      " [0. 0. 0.]\n",
      " [0. 0. 0.]\n",
      " [0. 0. 0.]\n",
      " [0. 0. 0.]]\n"
     ]
    }
   ],
   "source": [
    "# Criando um array de 2 dimensões - matriz\n",
    "\n",
    "matriz_zeros = np.zeros((5,3))\n",
    "print(matriz_zeros)"
   ]
  },
  {
   "cell_type": "code",
   "execution_count": 4,
   "id": "aeb91799",
   "metadata": {},
   "outputs": [],
   "source": [
    "## notas dos alunos\n",
    "\n",
    "lista_de_notas = [9.8, 10, 5.6, 9.1]\n",
    "notas = np.array(lista_de_notas)"
   ]
  },
  {
   "cell_type": "code",
   "execution_count": 5,
   "id": "00976667",
   "metadata": {},
   "outputs": [
    {
     "name": "stdout",
     "output_type": "stream",
     "text": [
      "Máximo:  10.0\n",
      "Mínimo:  5.6\n",
      "Média:  8.625\n",
      "Desvio Padrão:  1.7781661902083283\n",
      "Posição menor 2\n"
     ]
    }
   ],
   "source": [
    "print(\"Máximo: \", notas.max())\n",
    "print(\"Mínimo: \", notas.min())\n",
    "print(\"Média: \", notas.mean())\n",
    "print(\"Desvio Padrão: \", notas.std())\n",
    "print(\"Posição menor\", notas.argmin())"
   ]
  }
 ],
 "metadata": {
  "kernelspec": {
   "display_name": "Python 3 (ipykernel)",
   "language": "python",
   "name": "python3"
  },
  "language_info": {
   "codemirror_mode": {
    "name": "ipython",
    "version": 3
   },
   "file_extension": ".py",
   "mimetype": "text/x-python",
   "name": "python",
   "nbconvert_exporter": "python",
   "pygments_lexer": "ipython3",
   "version": "3.12.2"
  }
 },
 "nbformat": 4,
 "nbformat_minor": 5
}
