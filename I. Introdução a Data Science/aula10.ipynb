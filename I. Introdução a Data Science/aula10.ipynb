{
 "cells": [
  {
   "cell_type": "code",
   "execution_count": 16,
   "metadata": {},
   "outputs": [],
   "source": [
    "# Introdução ao Machine Learning - Parte 2 (marcadores e regressão logistica)\n",
    "\n",
    "import pandas as pd\n",
    "import seaborn as sns\n",
    "\n",
    "from sklearn.linear_model import LogisticRegression\n",
    "from sklearn.model_selection import train_test_split\n",
    "from sklearn.metrics import confusion_matrix, classification_report\n",
    "from mlxtend.plotting import plot_confusion_matrix"
   ]
  },
  {
   "cell_type": "code",
   "execution_count": null,
   "metadata": {},
   "outputs": [],
   "source": [
    "# df = pd.read_csv('breast_cancer.csv')~\n",
    "# df.head() "
   ]
  },
  {
   "cell_type": "code",
   "execution_count": null,
   "metadata": {},
   "outputs": [],
   "source": [
    "# x = df.drop(columns=['id', 'diagnosis'], axis=1)\n",
    "# y = df['diagnosis']\n",
    "# modelo = LogisticRegression(max_iter=10000)\n",
    "\n",
    "# Ajuste do modelo\n",
    "# x_train, x_test, y_train, y_test = train_test_split(x, y)\n",
    "\n",
    "# Treinamento\n",
    "# modelo.fit(x_train, y_train)\n",
    "\n",
    "# Predição\n",
    "# y_pred = modelo.predict(x_test)\n",
    "\n",
    "# Matriz de confusão - A matriz de confusão é uma tabela que mostra as frequências de classificação para cada classe do modelo.\n",
    "# cm = confusion_matrix(y_pred, y_test)\n",
    "\n",
    "# plot_confusion_matrix(cm)"
   ]
  },
  {
   "cell_type": "code",
   "execution_count": null,
   "metadata": {},
   "outputs": [],
   "source": [
    "# Relatório de classificação - O relatório de classificação exibe as principais métricas de classificação para o modelo.\n",
    "# print(classification_report(y_pred, y_test))\n",
    "# recall = é a proporção de positivos reais que foram corretamente classificados como tal (ou seja, a proporção de positivos reais que foram identificados corretamente).\n",
    "# precision = é a proporção de positivos previstos que eram corretamente positivos (ou seja, a proporção de positivos previstos que foram identificados corretamente).\n",
    "# f1-score = é a média harmônica entre recall e precision.\n",
    "# support = é o número de ocorrências de cada classe no conjunto de dados.\n",
    "\n",
    "# Acurácia - A acurácia é a proporção de previsões corretas feitas pelo modelo.\n",
    "# print(modelo.score(x_test, y_test))"
   ]
  }
 ],
 "metadata": {
  "kernelspec": {
   "display_name": "Python 3",
   "language": "python",
   "name": "python3"
  },
  "language_info": {
   "codemirror_mode": {
    "name": "ipython",
    "version": 3
   },
   "file_extension": ".py",
   "mimetype": "text/x-python",
   "name": "python",
   "nbconvert_exporter": "python",
   "pygments_lexer": "ipython3",
   "version": "3.12.2"
  }
 },
 "nbformat": 4,
 "nbformat_minor": 2
}
