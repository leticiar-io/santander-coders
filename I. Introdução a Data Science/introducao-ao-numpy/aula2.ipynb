{
 "cells": [
  {
   "cell_type": "code",
   "execution_count": 13,
   "metadata": {},
   "outputs": [],
   "source": [
    "# Mascaras booleanas\n",
    "\n",
    "import numpy as np"
   ]
  },
  {
   "cell_type": "code",
   "execution_count": 14,
   "metadata": {},
   "outputs": [
    {
     "name": "stdout",
     "output_type": "stream",
     "text": [
      "[ True False False  True False  True False False  True  True]\n",
      "['Yes' 'Yes' 'Yes' 'Yes' 'Yes']\n",
      "['C19' 'No' 'No' 'C19' 'No' 'C19' 'No' 'No' 'C19' 'C19']\n",
      "[ True False  True False  True  True False False  True  True]\n",
      "[ 7  6  8  9 10  6]\n"
     ]
    }
   ],
   "source": [
    "is_covid_positive = np.array([\"Yes\", \"No\", \"No\", \"Yes\", \"No\", \"Yes\", \"No\", \"No\", \"Yes\", \"Yes\"])\n",
    "\n",
    "mask = (is_covid_positive == \"Yes\")\n",
    "\n",
    "print(mask)\n",
    "print(is_covid_positive[mask])\n",
    "\n",
    "is_covid_positive[mask] = \"C19\"\n",
    "print(is_covid_positive)\n",
    "\n",
    "notas = np.array([7, 5, 6, 4, 8, 9, 3, 2, 10, 6])\n",
    "mask_notas = notas > 5\n",
    "print(mask_notas)\n",
    "print(notas[mask_notas])"
   ]
  }
 ],
 "metadata": {
  "kernelspec": {
   "display_name": "Python 3",
   "language": "python",
   "name": "python3"
  },
  "language_info": {
   "codemirror_mode": {
    "name": "ipython",
    "version": 3
   },
   "file_extension": ".py",
   "mimetype": "text/x-python",
   "name": "python",
   "nbconvert_exporter": "python",
   "pygments_lexer": "ipython3",
   "version": "3.12.2"
  }
 },
 "nbformat": 4,
 "nbformat_minor": 2
}
