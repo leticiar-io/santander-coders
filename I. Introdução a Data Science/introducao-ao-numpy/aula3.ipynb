{
 "cells": [
  {
   "cell_type": "code",
   "execution_count": 11,
   "metadata": {},
   "outputs": [],
   "source": [
    "# Pandas Series\n",
    "\n",
    "import pandas as pd"
   ]
  },
  {
   "cell_type": "code",
   "execution_count": 12,
   "metadata": {},
   "outputs": [
    {
     "name": "stdout",
     "output_type": "stream",
     "text": [
      "0    12\n",
      "1    23\n",
      "2    24\n",
      "3    45\n",
      "4    56\n",
      "5    67\n",
      "dtype: int64\n",
      "12\n",
      "A nota da Letícia é: 9\n",
      "A mediana das notas é: 9.0\n",
      "David    10\n",
      "dtype: int64\n",
      " - - - - - - - \n",
      "count     3.0\n",
      "mean      9.0\n",
      "std       1.0\n",
      "min       8.0\n",
      "25%       8.5\n",
      "50%       9.0\n",
      "75%       9.5\n",
      "max      10.0\n",
      "dtype: float64\n"
     ]
    }
   ],
   "source": [
    "lista = [12, 23, 24, 45, 56, 67]\n",
    "series_pandas = pd.Series(lista)\n",
    "print(series_pandas)\n",
    "print(series_pandas[0])\n",
    "\n",
    "notas = {\"Thiago\": 8, \"Letícia\": 9, \"David\": 10}\n",
    "series_notas = pd.Series(notas)\n",
    "print(\"A nota da Letícia é:\", series_notas[\"Letícia\"])\n",
    "\n",
    "mediana_notas = series_notas.median()\n",
    "print(\"A mediana das notas é:\", mediana_notas)\n",
    "print(series_notas[series_notas > mediana_notas])\n",
    "print(\" - - - - - - - \")\n",
    "print(series_notas.describe())"
   ]
  }
 ],
 "metadata": {
  "kernelspec": {
   "display_name": "Python 3",
   "language": "python",
   "name": "python3"
  },
  "language_info": {
   "codemirror_mode": {
    "name": "ipython",
    "version": 3
   },
   "file_extension": ".py",
   "mimetype": "text/x-python",
   "name": "python",
   "nbconvert_exporter": "python",
   "pygments_lexer": "ipython3",
   "version": "3.12.2"
  }
 },
 "nbformat": 4,
 "nbformat_minor": 2
}
