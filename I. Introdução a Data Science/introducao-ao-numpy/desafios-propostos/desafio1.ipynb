{
 "cells": [
  {
   "cell_type": "code",
   "execution_count": 2,
   "metadata": {},
   "outputs": [
    {
     "name": "stdout",
     "output_type": "stream",
     "text": [
      "A média das notas é:  6.26\n",
      "O desvio padrão das notas é:  3.095222124500922\n",
      "A maior nota é:  10.0\n",
      "A menor nota é:  1.1\n",
      "As notas são:  [8.0, 2.1, 1.1, 2.0, 8.0, 7.5, 6.5, 8.4, 9.0, 10.0]\n"
     ]
    }
   ],
   "source": [
    "# O programa deve pegar a nota de 10 alunos e calcular a média, desvio padrão, maior e menor nota.\n",
    "\n",
    "import numpy as np\n",
    "\n",
    "notas = []\n",
    "\n",
    "for i in range(10):\n",
    "      nota = float(input(\"Digite a nota do aluno: \"))\n",
    "      notas.append(nota)\n",
    "      \n",
    "print(\"A média das notas é: \", np.mean(notas))\n",
    "print(\"O desvio padrão das notas é: \", np.std(notas))\n",
    "print(\"A maior nota é: \", max(notas))\n",
    "print(\"A menor nota é: \", min(notas))\n",
    "print(\"As notas são: \", notas)"
   ]
  }
 ],
 "metadata": {
  "kernelspec": {
   "display_name": "Python 3",
   "language": "python",
   "name": "python3"
  },
  "language_info": {
   "codemirror_mode": {
    "name": "ipython",
    "version": 3
   },
   "file_extension": ".py",
   "mimetype": "text/x-python",
   "name": "python",
   "nbconvert_exporter": "python",
   "pygments_lexer": "ipython3",
   "version": "3.12.2"
  }
 },
 "nbformat": 4,
 "nbformat_minor": 2
}
