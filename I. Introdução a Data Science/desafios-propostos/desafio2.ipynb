{
 "cells": [
  {
   "cell_type": "code",
   "execution_count": 7,
   "metadata": {},
   "outputs": [
    {
     "name": "stdout",
     "output_type": "stream",
     "text": [
      "[10  9  8  7  6  5  4  3  2  1]\n",
      "[ True  True  True  True  True False False False False False]\n",
      "['Aprovado' 'Aprovado' 'Aprovado' 'Aprovado' 'Aprovado' 'Reprovado'\n",
      " 'Reprovado' 'Reprovado' 'Reprovado' 'Reprovado']\n"
     ]
    }
   ],
   "source": [
    "# Fazer uma lista de notas e a partir das notas dizer quem está e quem não está aprovado\n",
    "import numpy as np\n",
    "\n",
    "notas = np.array([10, 9, 8, 7, 6, 5, 4, 3, 2, 1])\n",
    "print(notas)\n",
    "\n",
    "aprovados = (notas >= 6)\n",
    "print(aprovados)\n",
    "\n",
    "situacao = np.where(aprovados, 'Aprovado', 'Reprovado')\n",
    "print(situacao)"
   ]
  }
 ],
 "metadata": {
  "kernelspec": {
   "display_name": "Python 3",
   "language": "python",
   "name": "python3"
  },
  "language_info": {
   "codemirror_mode": {
    "name": "ipython",
    "version": 3
   },
   "file_extension": ".py",
   "mimetype": "text/x-python",
   "name": "python",
   "nbconvert_exporter": "python",
   "pygments_lexer": "ipython3",
   "version": "3.12.2"
  }
 },
 "nbformat": 4,
 "nbformat_minor": 2
}
